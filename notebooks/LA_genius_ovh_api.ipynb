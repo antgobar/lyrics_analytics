{
 "cells": [
  {
   "cell_type": "code",
   "execution_count": 2,
   "metadata": {
    "collapsed": true
   },
   "outputs": [],
   "source": [
    "import lyricsgenius as genius\n",
    "import pandas as pd\n",
    "import numpy as np\n",
    "import matplotlib.pyplot as plt\n",
    "import seaborn as sns\n",
    "from wordcloud import WordCloud, STOPWORDS\n",
    "import json\n",
    "import requests\n",
    "import time as t\n",
    "import csv"
   ]
  },
  {
   "cell_type": "code",
   "execution_count": 360,
   "metadata": {
    "collapsed": true
   },
   "outputs": [],
   "source": [
    "access_token = 'PD7BJYimkApf5yaGUxA6WYNZuYmBSGs4YpT51WiXkf2qDK7MSHhqqJzCBBavYfOq'"
   ]
  },
  {
   "cell_type": "code",
   "execution_count": 361,
   "metadata": {
    "collapsed": false
   },
   "outputs": [],
   "source": [
    "def search_artist(artists, max_songs, access_token):\n",
    "    '''\n",
    "    This function uses the lyricsgenius libary (genius API) to extract \n",
    "    the fields: song title, artist, album, date and lyrics\n",
    "    Stored in a pandas dataframe.\n",
    "    parameters:\n",
    "    artists = artist(s) or band(s) to search, passed as a list\n",
    "    e.g. artists = ['Coldplay', 'Taylor Swift']\n",
    "    max_songs = maximum number of songs to search for \n",
    "    Songs by artist are sorted by 'popularity'\n",
    "    access_token = your access token of the genius API\n",
    "    '''\n",
    "    \n",
    "    api = genius.Genius(access_token)\n",
    "    \n",
    "    # Initialise fields lists \n",
    "    list_lyrics = []\n",
    "    list_title = []\n",
    "    list_artist = []\n",
    "    list_album = []\n",
    "    list_date = []\n",
    "    \n",
    "    # Iterate over artists list\n",
    "    for i in artists:\n",
    "        artist = api.search_artist(i,\n",
    "                                   max_songs=max_songs,\n",
    "                                   sort='popularity')\n",
    "        songs = artist.songs\n",
    "        for song in songs:\n",
    "            list_lyrics.append(song.lyrics)\n",
    "            list_title.append(song.title)\n",
    "            list_artist.append(song.artist)\n",
    "            list_album.append(song.album)\n",
    "            list_date.append(song.year)\n",
    "\n",
    "    df = pd.DataFrame({'artist':list_artist,\n",
    "                       'title':list_title,\n",
    "                       'album':list_album,\n",
    "                        'date':list_date,\n",
    "                       'lyrics':list_lyrics})\n",
    "\n",
    "    return df"
   ]
  },
  {
   "cell_type": "code",
   "execution_count": 362,
   "metadata": {
    "collapsed": false,
    "scrolled": true
   },
   "outputs": [],
   "source": [
    "def clean_lyrics(df, column):\n",
    "    \"\"\"\n",
    "    This function cleans the words without importance and fix the format of the  dataframe's column lyrics \n",
    "    parameters:\n",
    "    df = dataframe\n",
    "    column = name of the column to clean\n",
    "    \"\"\"\n",
    "\n",
    "    df[column] = df[column].str.lower()\n",
    "    df[column] = df[column].str.replace(r\"verse |[1|2|3]|chorus|bridge|outro\",\"\").str.replace(\"[\",\"\").str.replace(\"]\",\"\")\n",
    "    df[column] = df[column].str.lower().str.replace(r\"instrumental|intro|guitar|solo\",\"\")\n",
    "    df[column] = df[column].str.replace(\"\\n\",\" \").str.replace(r\"[^\\w\\d'\\s]+\",\"\")\n",
    "    df[column] = df[column].str.strip()\n",
    "\n",
    "    return df"
   ]
  },
  {
   "cell_type": "code",
   "execution_count": 363,
   "metadata": {
    "collapsed": false
   },
   "outputs": [],
   "source": [
    "def lyrics_metrics(df, column):\n",
    "    '''\n",
    "    Function to count lyrics word length, unique length \n",
    "    and unique index (number of unique lyrics divided by total lyrics)\n",
    "    '''\n",
    "\n",
    "    split = df[column].str.split()\n",
    "    df[column + '_count'] = split.str.len()\n",
    "    \n",
    "    unique_lyrics_len = []\n",
    "    \n",
    "    for i in split:\n",
    "        unique = np.unique(i)\n",
    "        unique_length = len(unique)\n",
    "        unique_lyrics_len.append(unique_length)\n",
    "\n",
    "    df[column+'_unique_count'] = unique_lyrics_len\n",
    "\n",
    "    unique_ratio = df[column+'_unique_count'] / df[column + '_count']\n",
    "    df['unique_ratio'] = unique_ratio.round(3)\n",
    "    \n",
    "    return(df)"
   ]
  },
  {
   "cell_type": "code",
   "execution_count": 364,
   "metadata": {
    "collapsed": true
   },
   "outputs": [],
   "source": [
    "def get_lyrics(artist, title):\n",
    "    '''\n",
    "    Function that uses \"https://lyrics.ovh/\" API to fetch lyrics\n",
    "    from a given artist and song title.\n",
    "    This function cleans lyrics to remove unwanted characters.\n",
    "    Returns one string containing the lyrics (not split)\n",
    "    '''\n",
    "    \n",
    "    base_url = 'https://api.lyrics.ovh/v1/' + artist + '/' + title\n",
    "\n",
    "    response = requests.get(base_url)\n",
    "    status_code = response.status_code\n",
    "    \n",
    "    if status_code == 200:\n",
    "        \n",
    "        json_data = json.loads(response.content)\n",
    "        lyrics = json_data['lyrics']\n",
    "        # make all lyrics lower case\n",
    "        lyrics = lyrics.lower()\n",
    "        # Remove characters to isolate words\n",
    "        unwanted_chars = ['\\n', '\\r', '(', ')', '[', ']', '.', '!', \",\",\n",
    "                          '\"\\\"', '/',\n",
    "                          'chorus', 'verse', 'intro', 'outro',\n",
    "                          'instrumental', 'guitar', 'solo', 'drums']\n",
    "\n",
    "        cleaned_lyrics = []\n",
    "        \n",
    "        for line in lyrics:\n",
    "            if line in unwanted_chars:\n",
    "                # Put a space instead of unwanted characters\n",
    "                cleaned_lyrics.append(' ')\n",
    "\n",
    "            else:\n",
    "                cleaned_lyrics.append(line)\n",
    "\n",
    "        lyrics = ''.join(cleaned_lyrics)\n",
    "\n",
    "        # Final filter of unwanted whitespace\n",
    "        lyrics = ' '.join(lyrics.split())\n",
    "\n",
    "        return lyrics\n",
    "\n",
    "    elif status_code != 200:\n",
    "        print(f'Status code {status_code}')\n",
    "\n",
    "        return ''"
   ]
  },
  {
   "cell_type": "code",
   "execution_count": 365,
   "metadata": {
    "collapsed": false
   },
   "outputs": [],
   "source": [
    "def relyric(df):\n",
    "    '''\n",
    "    Function that swaps out lyrics field in df \n",
    "    for lyrics found via get_lyrics function.\n",
    "    Lyrics found via genius API are harder to clean\n",
    "    e.g. they contain strings such as [verse1], or name\n",
    "    the artist at the begining of a verse.\n",
    "    '''\n",
    "\n",
    "    new_lyrics = []\n",
    "    for index, track in df.iterrows():\n",
    "        better_lyrics = get_lyrics(str(track.artist), str(track.title))\n",
    "        new_lyrics.append(better_lyrics)\n",
    "\n",
    "    df.lyrics = new_lyrics\n",
    "    return df"
   ]
  },
  {
   "cell_type": "code",
   "execution_count": 366,
   "metadata": {
    "collapsed": false
   },
   "outputs": [
    {
     "name": "stdout",
     "output_type": "stream",
     "text": [
      "Searching for songs by Taylor Swift...\n",
      "\n",
      "Song 1: \"​cardigan\"\n",
      "Song 2: \"​exile\"\n",
      "Song 3: \"Lover\"\n",
      "Song 4: \"​the 1\"\n",
      "Song 5: \"Look What You Made Me Do\"\n",
      "Song 6: \"​betty\"\n",
      "Song 7: \"End Game\"\n",
      "Song 8: \"ME!\"\n",
      "Song 9: \"You Need To Calm Down\"\n",
      "Song 10: \"​august\"\n",
      "\n",
      "Reached user-specified song limit (10).\n",
      "Done. Found 10 songs.\n",
      "Searching for songs by Coldplay...\n",
      "\n",
      "Song 1: \"The Scientist\"\n",
      "Song 2: \"Viva la Vida\"\n",
      "Song 3: \"Fix You\"\n",
      "Song 4: \"Yellow\"\n",
      "Song 5: \"Hymn for the Weekend\"\n",
      "Song 6: \"A Sky Full of Stars\"\n",
      "Song 7: \"Everglow\"\n",
      "Song 8: \"Adventure of a Lifetime\"\n",
      "Song 9: \"Orphans\"\n",
      "Song 10: \"Paradise\"\n",
      "\n",
      "Reached user-specified song limit (10).\n",
      "Done. Found 10 songs.\n"
     ]
    }
   ],
   "source": [
    "artists = ['Taylor Swift', 'Coldplay']\n",
    "max_songs = 10\n",
    "df = artist_df(artists, max_songs, access_token)"
   ]
  },
  {
   "cell_type": "code",
   "execution_count": 367,
   "metadata": {
    "collapsed": true
   },
   "outputs": [],
   "source": [
    "df = relyric(df)"
   ]
  },
  {
   "cell_type": "code",
   "execution_count": 368,
   "metadata": {
    "collapsed": false
   },
   "outputs": [
    {
     "data": {
      "text/html": [
       "<div>\n",
       "<style scoped>\n",
       "    .dataframe tbody tr th:only-of-type {\n",
       "        vertical-align: middle;\n",
       "    }\n",
       "\n",
       "    .dataframe tbody tr th {\n",
       "        vertical-align: top;\n",
       "    }\n",
       "\n",
       "    .dataframe thead th {\n",
       "        text-align: right;\n",
       "    }\n",
       "</style>\n",
       "<table border=\"1\" class=\"dataframe\">\n",
       "  <thead>\n",
       "    <tr style=\"text-align: right;\">\n",
       "      <th></th>\n",
       "      <th>artist</th>\n",
       "      <th>title</th>\n",
       "      <th>album</th>\n",
       "      <th>date</th>\n",
       "      <th>lyrics</th>\n",
       "    </tr>\n",
       "  </thead>\n",
       "  <tbody>\n",
       "    <tr>\n",
       "      <th>0</th>\n",
       "      <td>Taylor Swift</td>\n",
       "      <td>​cardigan</td>\n",
       "      <td>folklore</td>\n",
       "      <td>2020-07-24</td>\n",
       "      <td>vintage tee brand new phone high heels on cobb...</td>\n",
       "    </tr>\n",
       "    <tr>\n",
       "      <th>1</th>\n",
       "      <td>Taylor Swift</td>\n",
       "      <td>​exile</td>\n",
       "      <td>folklore</td>\n",
       "      <td>2020-07-24</td>\n",
       "      <td>i can see you standing honey with his arms aro...</td>\n",
       "    </tr>\n",
       "    <tr>\n",
       "      <th>2</th>\n",
       "      <td>Taylor Swift</td>\n",
       "      <td>Lover</td>\n",
       "      <td>Lover</td>\n",
       "      <td>2019-08-16</td>\n",
       "      <td>we could leave the christmas lights up 'til ja...</td>\n",
       "    </tr>\n",
       "    <tr>\n",
       "      <th>3</th>\n",
       "      <td>Taylor Swift</td>\n",
       "      <td>​the 1</td>\n",
       "      <td>folklore</td>\n",
       "      <td>2020-07-24</td>\n",
       "      <td>i'm doing good i'm on some new shit been sayin...</td>\n",
       "    </tr>\n",
       "    <tr>\n",
       "      <th>4</th>\n",
       "      <td>Taylor Swift</td>\n",
       "      <td>Look What You Made Me Do</td>\n",
       "      <td>reputation</td>\n",
       "      <td>2017-08-25</td>\n",
       "      <td>i don't like your little games don't like your...</td>\n",
       "    </tr>\n",
       "    <tr>\n",
       "      <th>5</th>\n",
       "      <td>Taylor Swift</td>\n",
       "      <td>​betty</td>\n",
       "      <td>folklore</td>\n",
       "      <td>2020-07-24</td>\n",
       "      <td>betty i won't make assumptions about why you s...</td>\n",
       "    </tr>\n",
       "    <tr>\n",
       "      <th>6</th>\n",
       "      <td>Taylor Swift</td>\n",
       "      <td>End Game</td>\n",
       "      <td>reputation</td>\n",
       "      <td>2017-11-10</td>\n",
       "      <td>i wanna be your end game i wanna be your first...</td>\n",
       "    </tr>\n",
       "    <tr>\n",
       "      <th>7</th>\n",
       "      <td>Taylor Swift</td>\n",
       "      <td>ME!</td>\n",
       "      <td>Lover</td>\n",
       "      <td>2019-04-26</td>\n",
       "      <td>i promise that you'll never find another like ...</td>\n",
       "    </tr>\n",
       "    <tr>\n",
       "      <th>8</th>\n",
       "      <td>Taylor Swift</td>\n",
       "      <td>You Need To Calm Down</td>\n",
       "      <td>Lover</td>\n",
       "      <td>2019-06-14</td>\n",
       "      <td>you are somebody that i don't know but you're ...</td>\n",
       "    </tr>\n",
       "    <tr>\n",
       "      <th>9</th>\n",
       "      <td>Taylor Swift</td>\n",
       "      <td>​august</td>\n",
       "      <td>folklore</td>\n",
       "      <td>2020-07-24</td>\n",
       "      <td>salt air and the rust on your door i never nee...</td>\n",
       "    </tr>\n",
       "    <tr>\n",
       "      <th>10</th>\n",
       "      <td>Coldplay</td>\n",
       "      <td>The Scientist</td>\n",
       "      <td>A Rush of Blood to the Head</td>\n",
       "      <td>2002-08-26</td>\n",
       "      <td>come up to meet you tell you i'm sorry you don...</td>\n",
       "    </tr>\n",
       "    <tr>\n",
       "      <th>11</th>\n",
       "      <td>Coldplay</td>\n",
       "      <td>Viva la Vida</td>\n",
       "      <td>Viva La Vida or Death and All His Friends</td>\n",
       "      <td>2008-05-25</td>\n",
       "      <td>i used to rule the world seas would rise when ...</td>\n",
       "    </tr>\n",
       "    <tr>\n",
       "      <th>12</th>\n",
       "      <td>Coldplay</td>\n",
       "      <td>Fix You</td>\n",
       "      <td>X&amp;Y</td>\n",
       "      <td>2005-06-06</td>\n",
       "      <td>when you try your best but you don't succeed w...</td>\n",
       "    </tr>\n",
       "    <tr>\n",
       "      <th>13</th>\n",
       "      <td>Coldplay</td>\n",
       "      <td>Yellow</td>\n",
       "      <td>Parachutes</td>\n",
       "      <td>2000-06-26</td>\n",
       "      <td>look at the stars look how they shine for you ...</td>\n",
       "    </tr>\n",
       "    <tr>\n",
       "      <th>14</th>\n",
       "      <td>Coldplay</td>\n",
       "      <td>Hymn for the Weekend</td>\n",
       "      <td>A Head Full of Dreams</td>\n",
       "      <td>2016-01-25</td>\n",
       "      <td>from me drink from me oh-ah-oh-ah then we shoo...</td>\n",
       "    </tr>\n",
       "    <tr>\n",
       "      <th>15</th>\n",
       "      <td>Coldplay</td>\n",
       "      <td>A Sky Full of Stars</td>\n",
       "      <td>Ghost Stories</td>\n",
       "      <td>2014-05-02</td>\n",
       "      <td>cause you're a sky cause you're a sky full of ...</td>\n",
       "    </tr>\n",
       "    <tr>\n",
       "      <th>16</th>\n",
       "      <td>Coldplay</td>\n",
       "      <td>Everglow</td>\n",
       "      <td>A Head Full of Dreams</td>\n",
       "      <td>2015-11-26</td>\n",
       "      <td>well they say people come say people go this p...</td>\n",
       "    </tr>\n",
       "    <tr>\n",
       "      <th>17</th>\n",
       "      <td>Coldplay</td>\n",
       "      <td>Adventure of a Lifetime</td>\n",
       "      <td>A Head Full of Dreams</td>\n",
       "      <td>2015-11-06</td>\n",
       "      <td>turn your magic on umi she'd say everything yo...</td>\n",
       "    </tr>\n",
       "    <tr>\n",
       "      <th>18</th>\n",
       "      <td>Coldplay</td>\n",
       "      <td>Orphans</td>\n",
       "      <td>Everyday Life</td>\n",
       "      <td>2019-10-24</td>\n",
       "      <td>rosaleem of the damascene yes she had eyes lik...</td>\n",
       "    </tr>\n",
       "    <tr>\n",
       "      <th>19</th>\n",
       "      <td>Coldplay</td>\n",
       "      <td>Paradise</td>\n",
       "      <td>Mylo Xyloto</td>\n",
       "      <td>2011-09-12</td>\n",
       "      <td>ooooh when she was just a girl she expected th...</td>\n",
       "    </tr>\n",
       "  </tbody>\n",
       "</table>\n",
       "</div>"
      ],
      "text/plain": [
       "          artist                     title  \\\n",
       "0   Taylor Swift                 ​cardigan   \n",
       "1   Taylor Swift                    ​exile   \n",
       "2   Taylor Swift                     Lover   \n",
       "3   Taylor Swift                    ​the 1   \n",
       "4   Taylor Swift  Look What You Made Me Do   \n",
       "5   Taylor Swift                    ​betty   \n",
       "6   Taylor Swift                  End Game   \n",
       "7   Taylor Swift                       ME!   \n",
       "8   Taylor Swift     You Need To Calm Down   \n",
       "9   Taylor Swift                   ​august   \n",
       "10      Coldplay             The Scientist   \n",
       "11      Coldplay              Viva la Vida   \n",
       "12      Coldplay                   Fix You   \n",
       "13      Coldplay                    Yellow   \n",
       "14      Coldplay      Hymn for the Weekend   \n",
       "15      Coldplay       A Sky Full of Stars   \n",
       "16      Coldplay                  Everglow   \n",
       "17      Coldplay   Adventure of a Lifetime   \n",
       "18      Coldplay                   Orphans   \n",
       "19      Coldplay                  Paradise   \n",
       "\n",
       "                                        album        date  \\\n",
       "0                                    folklore  2020-07-24   \n",
       "1                                    folklore  2020-07-24   \n",
       "2                                       Lover  2019-08-16   \n",
       "3                                    folklore  2020-07-24   \n",
       "4                                  reputation  2017-08-25   \n",
       "5                                    folklore  2020-07-24   \n",
       "6                                  reputation  2017-11-10   \n",
       "7                                       Lover  2019-04-26   \n",
       "8                                       Lover  2019-06-14   \n",
       "9                                    folklore  2020-07-24   \n",
       "10                A Rush of Blood to the Head  2002-08-26   \n",
       "11  Viva La Vida or Death and All His Friends  2008-05-25   \n",
       "12                                        X&Y  2005-06-06   \n",
       "13                                 Parachutes  2000-06-26   \n",
       "14                      A Head Full of Dreams  2016-01-25   \n",
       "15                              Ghost Stories  2014-05-02   \n",
       "16                      A Head Full of Dreams  2015-11-26   \n",
       "17                      A Head Full of Dreams  2015-11-06   \n",
       "18                              Everyday Life  2019-10-24   \n",
       "19                                Mylo Xyloto  2011-09-12   \n",
       "\n",
       "                                               lyrics  \n",
       "0   vintage tee brand new phone high heels on cobb...  \n",
       "1   i can see you standing honey with his arms aro...  \n",
       "2   we could leave the christmas lights up 'til ja...  \n",
       "3   i'm doing good i'm on some new shit been sayin...  \n",
       "4   i don't like your little games don't like your...  \n",
       "5   betty i won't make assumptions about why you s...  \n",
       "6   i wanna be your end game i wanna be your first...  \n",
       "7   i promise that you'll never find another like ...  \n",
       "8   you are somebody that i don't know but you're ...  \n",
       "9   salt air and the rust on your door i never nee...  \n",
       "10  come up to meet you tell you i'm sorry you don...  \n",
       "11  i used to rule the world seas would rise when ...  \n",
       "12  when you try your best but you don't succeed w...  \n",
       "13  look at the stars look how they shine for you ...  \n",
       "14  from me drink from me oh-ah-oh-ah then we shoo...  \n",
       "15  cause you're a sky cause you're a sky full of ...  \n",
       "16  well they say people come say people go this p...  \n",
       "17  turn your magic on umi she'd say everything yo...  \n",
       "18  rosaleem of the damascene yes she had eyes lik...  \n",
       "19  ooooh when she was just a girl she expected th...  "
      ]
     },
     "execution_count": 368,
     "metadata": {},
     "output_type": "execute_result"
    }
   ],
   "source": [
    "df"
   ]
  },
  {
   "cell_type": "code",
   "execution_count": 369,
   "metadata": {
    "collapsed": false
   },
   "outputs": [],
   "source": [
    "df = lyrics_metrics(df, 'lyrics')"
   ]
  },
  {
   "cell_type": "code",
   "execution_count": 372,
   "metadata": {
    "collapsed": false
   },
   "outputs": [
    {
     "data": {
      "image/png": "[encoded data removed]",
      "text/plain": [
       "<Figure size 432x288 with 1 Axes>"
      ]
     },
     "metadata": {
      "needs_background": "light"
     },
     "output_type": "display_data"
    }
   ],
   "source": [
    "def lyrics_hist(df, column, category):\n",
    "    '''\n",
    "    function takes df column to plot histogram\n",
    "    for a given category e.g. artist or albums\n",
    "    '''\n",
    "    \n",
    "    sns.histplot(data=df,\n",
    "                 x=column,\n",
    "                 hue=category,\n",
    "                 kde=True,\n",
    "                 common_norm=False)\n",
    "    \n",
    "    plt.show()\n",
    "\n",
    "lyrics_hist(df, df.lyrics_count, df.artist)"
   ]
  },
  {
   "cell_type": "code",
   "execution_count": 381,
   "metadata": {
    "collapsed": true
   },
   "outputs": [],
   "source": [
    "def make_wordcloud(lyrics, song_title, artist):\n",
    "    '''\n",
    "    Given song lyrics, produce a wordcloud \n",
    "    '''\n",
    "    lyrics = lyrics.split()\n",
    "    word_str = ' '.join(lyrics)\n",
    "\n",
    "    wordcloud = WordCloud(width = 600,\n",
    "                          height = 600,\n",
    "                          background_color ='white',\n",
    "                          stopwords = STOPWORDS,\n",
    "                          min_font_size = 10,\n",
    "                          collocations = False\n",
    "                          ).generate(word_str)\n",
    "\n",
    "    plt.figure(figsize = (6, 6), facecolor = None)\n",
    "    \n",
    "    plt.imshow(wordcloud)\n",
    "    plt.axis(\"off\")\n",
    "    plt.tight_layout(pad = 0)\n",
    "    plt.title(f'{song_title} by {artist}')\n",
    "    \n",
    "    plt.show()"
   ]
  },
  {
   "cell_type": "code",
   "execution_count": 383,
   "metadata": {
    "collapsed": false
   },
   "outputs": [
    {
     "data": {
      "image/png": "[encoded data removed]",
      "text/plain": [
       "<Figure size 432x432 with 1 Axes>"
      ]
     },
     "metadata": {
      "needs_background": "light"
     },
     "output_type": "display_data"
    }
   ],
   "source": [
    "rand = df.sample()\n",
    "artist = rand.artist.item()\n",
    "song = rand.title.item()\n",
    "lyrics = rand.lyrics.item()\n",
    "make_wordcloud(lyrics,song)"
   ]
  },
  {
   "cell_type": "code",
   "execution_count": 3,
   "metadata": {
    "collapsed": true
   },
   "outputs": [],
   "source": [
    "artists = ['a','b']"
   ]
  },
  {
   "cell_type": "code",
   "execution_count": 14,
   "metadata": {
    "collapsed": false
   },
   "outputs": [],
   "source": [
    "def write_data(artists):\n",
    "    current_time = int(t.time())\n",
    "    with open('api_timing_record.csv', mode='w', newline='') as file:\n",
    "        writer = csv.writer(file)\n",
    "        writer.writerow([current_time])\n",
    "        writer.writerow(artists)"
   ]
  },
  {
   "cell_type": "code",
   "execution_count": 15,
   "metadata": {
    "collapsed": false
   },
   "outputs": [],
   "source": [
    "write_data(artists)"
   ]
  },
  {
   "cell_type": "code",
   "execution_count": 354,
   "metadata": {
    "collapsed": false
   },
   "outputs": [],
   "source": [
    "def read_data():\n",
    "    read_list = []\n",
    "    with open('api_timing_record.csv', 'r') as file:\n",
    "        reader = csv.reader(file)\n",
    "        for row in reader:\n",
    "            read_list.append(row)\n",
    "    return read_list"
   ]
  },
  {
   "cell_type": "code",
   "execution_count": 355,
   "metadata": {
    "collapsed": false
   },
   "outputs": [
    {
     "data": {
      "text/plain": [
       "[['1606910337'], ['Taylor Swift', 'Coldplay']]"
      ]
     },
     "execution_count": 355,
     "metadata": {},
     "output_type": "execute_result"
    }
   ],
   "source": [
    "read_data()"
   ]
  },
  {
   "cell_type": "code",
   "execution_count": 356,
   "metadata": {
    "collapsed": false
   },
   "outputs": [],
   "source": [
    "def check_api_calls(new_artists):\n",
    "    read_list = read_data()\n",
    "    time_elapsed = round(t.time()) - int(read_list[0][0])\n",
    "    artists_called = read_list[1]\n",
    "    time_until = 60 - time_elapsed\n",
    "    if time_elapsed < 60 and any(artist in new_artists for artist in artists):\n",
    "        print(f'''You are calling an artist previously called within the last 60 seconds.\n",
    "You may not get all their lyrics due to the lyricsovh API restrictions.\n",
    "Please wait {time_until}s to call the same artist again :)''')\n",
    "        return False\n",
    "    \n",
    "    else:\n",
    "        return True"
   ]
  },
  {
   "cell_type": "code",
   "execution_count": 357,
   "metadata": {
    "collapsed": true
   },
   "outputs": [],
   "source": [
    "new_artists = ['Taylor Swift', 'Metallica', 'Coldplay']"
   ]
  },
  {
   "cell_type": "code",
   "execution_count": 358,
   "metadata": {
    "collapsed": false
   },
   "outputs": [
    {
     "name": "stdout",
     "output_type": "stream",
     "text": [
      "You are calling an artist previously called within the last 60 seconds.\n",
      "You may not get all their lyrics due to the lyricsovh API restrictions.\n",
      "Please wait 57s to call the same artist again :)\n"
     ]
    }
   ],
   "source": [
    "check_timing = check_api_calls(new_artists)"
   ]
  },
  {
   "cell_type": "code",
   "execution_count": 338,
   "metadata": {
    "collapsed": false
   },
   "outputs": [
    {
     "data": {
      "text/plain": [
       "True"
      ]
     },
     "execution_count": 338,
     "metadata": {},
     "output_type": "execute_result"
    }
   ],
   "source": [
    "check_timing"
   ]
  },
  {
   "cell_type": "code",
   "execution_count": null,
   "metadata": {
    "collapsed": true
   },
   "outputs": [],
   "source": []
  }
 ],
 "metadata": {
  "kernelspec": {
   "display_name": "Python 3",
   "language": "python",
   "name": "python3"
  },
  "language_info": {
   "codemirror_mode": {
    "name": "ipython",
    "version": 3
   },
   "file_extension": ".py",
   "mimetype": "text/x-python",
   "name": "python",
   "nbconvert_exporter": "python",
   "pygments_lexer": "ipython3",
   "version": "3.8.1"
  }
 },
 "nbformat": 4,
 "nbformat_minor": 0
}
